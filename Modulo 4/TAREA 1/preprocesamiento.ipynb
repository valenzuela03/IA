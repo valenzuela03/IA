{
 "cells": [
  {
   "cell_type": "markdown",
   "id": "74ebf732",
   "metadata": {},
   "source": [
    "## Dataset\n",
    "https://www.kaggle.com/datasets/msambare/fer2013"
   ]
  },
  {
   "cell_type": "markdown",
   "id": "cc9dfaa4",
   "metadata": {},
   "source": [
    "### 1.- Librerias necesarias"
   ]
  },
  {
   "cell_type": "code",
   "execution_count": null,
   "id": "a55d2e7e",
   "metadata": {},
   "outputs": [],
   "source": [
    "import tensorflow as tf\n",
    "import matplotlib.pyplot as plt"
   ]
  },
  {
   "cell_type": "markdown",
   "id": "feb788e3",
   "metadata": {},
   "source": [
    "### 2.- Cargar las imagenes del dataset"
   ]
  },
  {
   "cell_type": "code",
   "execution_count": null,
   "id": "21fc8dde",
   "metadata": {},
   "outputs": [
    {
     "name": "stdout",
     "output_type": "stream",
     "text": [
      "Found 1148 files belonging to 6 classes.\n"
     ]
    }
   ],
   "source": [
    "# Ruta al directorio que contiene las imágenes\n",
    "directorio_datos = \"/Users/cesar/Documents/TEC DE CULIACAN/8 SEMESTRE TEC/IA/Modulo 4/TAREA 1/dataset\"\n",
    "\n",
    "# Cargamos las imágenes y etiquetas de forma automática\n",
    "datos_brutos = tf.keras.utils.image_dataset_from_directory(\n",
    "    directory=directorio_datos,\n",
    "    labels='inferred',        \n",
    "    label_mode='int',         # Etiquetas como enteros\n",
    "    image_size=(256, 256),    \n",
    "    batch_size=32,            \n",
    "    shuffle=True              \n",
    ")"
   ]
  },
  {
   "cell_type": "markdown",
   "id": "c288372e",
   "metadata": {},
   "source": [
    "### 3. Preprocesamiento y aumento de datos"
   ]
  },
  {
   "cell_type": "code",
   "execution_count": null,
   "id": "9905bc92",
   "metadata": {},
   "outputs": [],
   "source": [
    "def aplicar_aumentos(imagen, etiqueta):\n",
    "    imagen = tf.image.convert_image_dtype(imagen, tf.float32)\n",
    "\n",
    "    # Aplicar aumento de brillo y contraste de forma aleatoria\n",
    "    if tf.random.uniform(()) > 0.5:\n",
    "        imagen = tf.image.random_brightness(imagen, max_delta=0.05)\n",
    "    if tf.random.uniform(()) > 0.5:\n",
    "        imagen = tf.image.random_contrast(imagen, lower=0.95, upper=1.05)\n",
    "\n",
    "    # Rotación aleatoria de la imagen\n",
    "    rotaciones = tf.random.uniform([], minval=0, maxval=4, dtype=tf.int32)\n",
    "    imagen = tf.image.rot90(imagen, k=rotaciones)\n",
    "\n",
    "    # Simulación de zoom mediante padding y recorte aleatorio\n",
    "    imagen = tf.image.resize_with_crop_or_pad(imagen, 270, 270)     # Añade borde\n",
    "    imagen = tf.image.random_crop(imagen, size=[256, 256, 3])       # Recorta de nuevo\n",
    "\n",
    "    return imagen, etiqueta\n",
    "\n",
    "AUTOTUNE = tf.data.AUTOTUNE\n",
    "# Aplicamos las transformaciones al dataset\n",
    "datos_preprocesados = (\n",
    "    datos_brutos\n",
    "    .unbatch()  \n",
    "    .map(aplicar_aumentos, num_parallel_calls=AUTOTUNE)  \n",
    "    .batch(32)  \n",
    "    .prefetch(AUTOTUNE) \n",
    ")"
   ]
  }
 ],
 "metadata": {
  "kernelspec": {
   "display_name": ".venv",
   "language": "python",
   "name": "python3"
  },
  "language_info": {
   "codemirror_mode": {
    "name": "ipython",
    "version": 3
   },
   "file_extension": ".py",
   "mimetype": "text/x-python",
   "name": "python",
   "nbconvert_exporter": "python",
   "pygments_lexer": "ipython3",
   "version": "3.9.6"
  }
 },
 "nbformat": 4,
 "nbformat_minor": 5
}
